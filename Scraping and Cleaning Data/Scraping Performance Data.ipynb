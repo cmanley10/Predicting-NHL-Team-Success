{
 "cells": [
  {
   "cell_type": "markdown",
   "metadata": {},
   "source": [
    "# Scraping Hockey Reference"
   ]
  },
  {
   "cell_type": "markdown",
   "metadata": {},
   "source": [
    "### Workflow\n",
    "\n",
    "- I need to scrape several years of data for each team and all individual players\n",
    "- The team and player statistics will be in separate dataframes.\n",
    "- Aditionally, each year of data will also be in separate dataframes.\n",
    "- I will set up my scraper to grab team statistics for each team in a given year and make that a temporary dataframe which I will turn into individual csvs.\n",
    "- The individual player statistics will also be separated by year and saved into individual csvs."
   ]
  },
  {
   "cell_type": "markdown",
   "metadata": {},
   "source": [
    "### Importing libraries"
   ]
  },
  {
   "cell_type": "code",
   "execution_count": 1,
   "metadata": {},
   "outputs": [],
   "source": [
    "import numpy as np\n",
    "import pandas as pd\n",
    "import matplotlib.pyplot as plt\n",
    "from bs4 import BeautifulSoup\n",
    "import urllib3\n",
    "import requests\n",
    "import time\n",
    "import re"
   ]
  },
  {
   "cell_type": "markdown",
   "metadata": {},
   "source": [
    "#### Creating base URL"
   ]
  },
  {
   "cell_type": "code",
   "execution_count": 2,
   "metadata": {},
   "outputs": [],
   "source": [
    "from urllib.request import urlopen\n",
    "from bs4 import BeautifulSoup\n",
    "base_url = 'https://www.hockey-reference.com/teams/'"
   ]
  },
  {
   "cell_type": "markdown",
   "metadata": {},
   "source": [
    "#### Function to grab a txt file of team links"
   ]
  },
  {
   "cell_type": "code",
   "execution_count": 3,
   "metadata": {},
   "outputs": [],
   "source": [
    "def get_page(url):\n",
    "    page = urlopen(base_url)\n",
    "    soup = BeautifulSoup(page, 'lxml')\n",
    "    file = open('hockey-reference_urls.txt', 'w')\n",
    "    file.write(str(soup))\n",
    "    file.close()\n",
    "\n",
    "def get_team_links(url):\n",
    "    page = urlopen(url)\n",
    "    soup = BeautifulSoup(page, 'lxml')"
   ]
  },
  {
   "cell_type": "code",
   "execution_count": 4,
   "metadata": {},
   "outputs": [],
   "source": [
    "get_page(base_url)"
   ]
  },
  {
   "cell_type": "code",
   "execution_count": 5,
   "metadata": {},
   "outputs": [],
   "source": [
    "with open('hockey-reference_urls.txt', 'r') as file:\n",
    "    for line in file:\n",
    "        line = line.strip()"
   ]
  },
  {
   "cell_type": "code",
   "execution_count": 6,
   "metadata": {},
   "outputs": [],
   "source": [
    "page = open(\"hockey-reference_urls.txt\", 'r')\n",
    "soup = BeautifulSoup(page, \"lxml\")\n",
    "div = soup.find('div', {'class': 'overthrow table_container'})\n"
   ]
  },
  {
   "cell_type": "markdown",
   "metadata": {},
   "source": [
    "#### Saving the team links in a variable"
   ]
  },
  {
   "cell_type": "code",
   "execution_count": 7,
   "metadata": {},
   "outputs": [],
   "source": [
    "team_links = []\n",
    "links = div.find_all('a')\n",
    "for link in links:\n",
    "    team_links.append(link.get('href'))\n",
    "# As teams have moved and changed over the years\n",
    "# I had to manually add Arizona and Atlanta to this list\n",
    "team_links.insert(1, '/teams/ARI/')\n",
    "team_links.insert(2, '/teams/ATL/')"
   ]
  },
  {
   "cell_type": "code",
   "execution_count": 79,
   "metadata": {},
   "outputs": [
    {
     "name": "stdout",
     "output_type": "stream",
     "text": [
      "33\n"
     ]
    }
   ],
   "source": [
    "print(len(team_links))"
   ]
  },
  {
   "cell_type": "markdown",
   "metadata": {},
   "source": [
    "  ---"
   ]
  },
  {
   "cell_type": "markdown",
   "metadata": {},
   "source": [
    "## Function for scraping individual player data\n",
    "\n",
    "- This function finds a specific table on each teams page which contains individual player stats for a given year.\n",
    "- There will be a for loop later which will call this function and iterate through each team and each year."
   ]
  },
  {
   "cell_type": "code",
   "execution_count": 18,
   "metadata": {},
   "outputs": [],
   "source": [
    "def get_player_table(url):\n",
    "    res = requests.get(url)\n",
    "    skater_soup = BeautifulSoup(res.content, 'lxml')\n",
    "    team_name = skater_soup.find('h1', {'itemprop': 'name'}).find_all('span')[1].text\n",
    "    table = skater_soup.find('div', {'id': 'all_skaters'}).find('table', {'id': 'skaters'}).find('tbody')\n",
    "    player_stats = []\n",
    "    for row in table.find_all('tr'):\n",
    "        players = {}\n",
    "        for element in row:\n",
    "            players['player'] = row.find('a').text\n",
    "            players['age'] = row.find('td', {'data-stat': 'age'}).text\n",
    "            players['position'] = row.find('td', {'data-stat': 'pos'}).text\n",
    "            players['games_played'] = row.find('td', {'data-stat': 'games_played'}).text\n",
    "            players['goals'] = row.find('td', {'data-stat': 'goals'}).text\n",
    "            players['assists'] = row.find('td', {'data-stat': 'assists'}).text\n",
    "            players['points'] = row.find('td', {'data-stat': 'points'}).text\n",
    "            players['plus_minus'] = row.find('td', {'data-stat': 'plus_minus'}).text\n",
    "            players['penalty_minutes'] = row.find('td', {'data-stat': 'pen_min'}).text\n",
    "            players['es_goals'] = row.find('td', {'data-stat': 'goals_ev'}).text\n",
    "            players['pp_goals'] = row.find('td', {'data-stat': 'goals_pp'}).text\n",
    "            players['sh_goals'] = row.find('td', {'data-stat': 'goals_sh'}).text\n",
    "            players['gw_goals'] = row.find('td', {'data-stat': 'goals_gw'}).text\n",
    "            players['es_assists'] = row.find('td', {'data-stat': 'assists_ev'}).text\n",
    "            players['pp_assists'] = row.find('td', {'data-stat': 'assists_pp'}).text\n",
    "            players['sh_assists'] = row.find('td', {'data-stat': 'assists_sh'}).text\n",
    "            players['shots'] = row.find('td', {'data-stat': 'shots'}).text\n",
    "            players['shot_pct'] = row.find('td', {'data-stat': 'shot_pct'}).text\n",
    "            players['toi'] = row.find('td', {'data-stat': 'time_on_ice'}).text\n",
    "            players['toi_avg'] = row.find('td', {'data-stat': 'time_on_ice_avg'}).text\n",
    "            players['ops'] = row.find('td', {'data-stat': 'ops'}).text\n",
    "            players['dps'] = row.find('td', {'data-stat': 'dps'}).text\n",
    "            players['point_shares'] = row.find('td', {'data-stat': 'ps'}).text\n",
    "            players['es_blocks'] = row.find('td', {'data-stat': 'blocks'}).text\n",
    "            players['es_hits'] = row.find('td', {'data-stat': 'hits'}).text\n",
    "            players['es_faceoff_wins'] = row.find('td', {'data-stat': 'faceoff_wins'}).text\n",
    "            players['es_faceoff_losses'] = row.find('td', {'data-stat': 'faceoff_losses'}).text\n",
    "            players['es_faceoff_pct'] = row.find('td', {'data-stat': 'faceoff_percentage'}).text\n",
    "            players['team'] = team_name\n",
    "        player_stats.append(players)\n",
    "    return player_stats"
   ]
  },
  {
   "cell_type": "markdown",
   "metadata": {},
   "source": [
    "### For loop for scraping individual player stats\n",
    "\n",
    "- Similar to the previous for loop, this will output one year of data which will be saved to csv."
   ]
  },
  {
   "cell_type": "code",
   "execution_count": null,
   "metadata": {},
   "outputs": [],
   "source": [
    "base_url = 'https://www.hockey-reference.com'\n",
    "teams = team_links\n",
    "years = ['2007.html']\n",
    "player_year_df = pd.DataFrame()\n",
    "for team in teams:\n",
    "    try:\n",
    "        for year in years:\n",
    "            url = base_url + team + year\n",
    "            team_year = get_player_table(url)\n",
    "            team_df = pd.DataFrame(team_year)\n",
    "            player_year_df = pd.concat([year_df, team_df], axis=0)\n",
    "            player_year_df.reset_index(drop=True, inplace=True)\n",
    "            cols=[i for i in year_df.columns if i not in ['team', 'player', 'position', 'toi_avg']]\n",
    "            for col in cols:\n",
    "                player_year_df[col]=pd.to_numeric(year_df[col])\n",
    "            time.sleep(3)               \n",
    "    except:\n",
    "        continue"
   ]
  },
  {
   "cell_type": "markdown",
   "metadata": {},
   "source": [
    "#### Adding a year column to the dataframe"
   ]
  },
  {
   "cell_type": "code",
   "execution_count": null,
   "metadata": {},
   "outputs": [],
   "source": [
    "player_year_df['year'] = 2007"
   ]
  },
  {
   "cell_type": "markdown",
   "metadata": {},
   "source": [
    "#### Saving to CSV"
   ]
  },
  {
   "cell_type": "code",
   "execution_count": null,
   "metadata": {},
   "outputs": [],
   "source": [
    "player_year_df.to_csv('2007 player stats.csv')"
   ]
  },
  {
   "cell_type": "markdown",
   "metadata": {},
   "source": [
    "  ---"
   ]
  },
  {
   "cell_type": "markdown",
   "metadata": {},
   "source": [
    "## Function for scraping team statistics\n",
    "\n",
    "- This function finds a specific table on each teams page\n",
    "- I had to get creative in scraping this table as the data in this table was formatted differently than the individual player data table.\n",
    "- Once I find the specific table within the \"season_soup\" variable, this function uses the dictionary structure of the data to assign column names\n",
    "- As I need a CSV for each individual year, I will not use a for loop for scraping here. Each CSV will be saved individually."
   ]
  },
  {
   "cell_type": "code",
   "execution_count": null,
   "metadata": {},
   "outputs": [],
   "source": [
    "url = 'https://www.hockey-reference.com/leagues/NHL_2007.html'\n",
    "def get_league_season(url):\n",
    "    res = requests.get(url).content\n",
    "    res = res.decode('utf-8')\n",
    "    season_soup = BeautifulSoup(re.sub('<!--|-->', '', res), 'lxml')\n",
    "    table = season_soup.find('div', {'id': 'div_stats'}).find('tbody')\n",
    "    league_season = []\n",
    "    for row in table.find_all('tr'):\n",
    "        season = {}\n",
    "        for element in row.find_all('td'):\n",
    "            stat = element.text\n",
    "            temp = element.attrs\n",
    "            column = temp['data-stat']\n",
    "            season.update({column: stat})\n",
    "        league_season.append(season)\n",
    "    league_season = pd.DataFrame(league_season)\n",
    "    cols=[i for i in league_season.columns if i not in ['team_name']]\n",
    "    for col in cols:\n",
    "        league_season[col]=pd.to_numeric(league_season[col])\n",
    "    return league_season"
   ]
  },
  {
   "cell_type": "code",
   "execution_count": 90,
   "metadata": {},
   "outputs": [],
   "source": [
    "league_season = get_league_season('https://www.hockey-reference.com/leagues/NHL_2007.html')"
   ]
  },
  {
   "cell_type": "code",
   "execution_count": 91,
   "metadata": {},
   "outputs": [
    {
     "data": {
      "text/html": [
       "<div>\n",
       "<style scoped>\n",
       "    .dataframe tbody tr th:only-of-type {\n",
       "        vertical-align: middle;\n",
       "    }\n",
       "\n",
       "    .dataframe tbody tr th {\n",
       "        vertical-align: top;\n",
       "    }\n",
       "\n",
       "    .dataframe thead th {\n",
       "        text-align: right;\n",
       "    }\n",
       "</style>\n",
       "<table border=\"1\" class=\"dataframe\">\n",
       "  <thead>\n",
       "    <tr style=\"text-align: right;\">\n",
       "      <th></th>\n",
       "      <th>average_age</th>\n",
       "      <th>chances_pp</th>\n",
       "      <th>games</th>\n",
       "      <th>goals</th>\n",
       "      <th>goals_against_ev</th>\n",
       "      <th>goals_ev</th>\n",
       "      <th>goals_pp</th>\n",
       "      <th>goals_sh</th>\n",
       "      <th>losses</th>\n",
       "      <th>losses_ot</th>\n",
       "      <th>...</th>\n",
       "      <th>save_pct</th>\n",
       "      <th>shot_pct</th>\n",
       "      <th>shots</th>\n",
       "      <th>shots_against</th>\n",
       "      <th>sos</th>\n",
       "      <th>srs</th>\n",
       "      <th>team_name</th>\n",
       "      <th>total_goals_per_game</th>\n",
       "      <th>wins</th>\n",
       "      <th>wins_shootout</th>\n",
       "    </tr>\n",
       "  </thead>\n",
       "  <tbody>\n",
       "    <tr>\n",
       "      <th>0</th>\n",
       "      <td>28.4</td>\n",
       "      <td>274</td>\n",
       "      <td>82</td>\n",
       "      <td>267</td>\n",
       "      <td>145</td>\n",
       "      <td>193</td>\n",
       "      <td>58</td>\n",
       "      <td>10</td>\n",
       "      <td>18</td>\n",
       "      <td>11</td>\n",
       "      <td>...</td>\n",
       "      <td>0.923</td>\n",
       "      <td>9.9</td>\n",
       "      <td>2641</td>\n",
       "      <td>2659</td>\n",
       "      <td>0.03</td>\n",
       "      <td>0.71</td>\n",
       "      <td>Nashville Predators*</td>\n",
       "      <td>5.83</td>\n",
       "      <td>53</td>\n",
       "      <td>6</td>\n",
       "    </tr>\n",
       "    <tr>\n",
       "      <th>1</th>\n",
       "      <td>26.8</td>\n",
       "      <td>274</td>\n",
       "      <td>82</td>\n",
       "      <td>277</td>\n",
       "      <td>159</td>\n",
       "      <td>200</td>\n",
       "      <td>64</td>\n",
       "      <td>9</td>\n",
       "      <td>20</td>\n",
       "      <td>10</td>\n",
       "      <td>...</td>\n",
       "      <td>0.917</td>\n",
       "      <td>10.3</td>\n",
       "      <td>2643</td>\n",
       "      <td>2613</td>\n",
       "      <td>0.02</td>\n",
       "      <td>0.74</td>\n",
       "      <td>Winnipeg Jets*</td>\n",
       "      <td>6.04</td>\n",
       "      <td>52</td>\n",
       "      <td>4</td>\n",
       "    </tr>\n",
       "    <tr>\n",
       "      <th>2</th>\n",
       "      <td>27.5</td>\n",
       "      <td>276</td>\n",
       "      <td>82</td>\n",
       "      <td>296</td>\n",
       "      <td>172</td>\n",
       "      <td>216</td>\n",
       "      <td>66</td>\n",
       "      <td>9</td>\n",
       "      <td>23</td>\n",
       "      <td>5</td>\n",
       "      <td>...</td>\n",
       "      <td>0.912</td>\n",
       "      <td>10.7</td>\n",
       "      <td>2737</td>\n",
       "      <td>2756</td>\n",
       "      <td>-0.07</td>\n",
       "      <td>0.66</td>\n",
       "      <td>Tampa Bay Lightning*</td>\n",
       "      <td>6.49</td>\n",
       "      <td>54</td>\n",
       "      <td>6</td>\n",
       "    </tr>\n",
       "    <tr>\n",
       "      <th>3</th>\n",
       "      <td>28.6</td>\n",
       "      <td>258</td>\n",
       "      <td>82</td>\n",
       "      <td>270</td>\n",
       "      <td>161</td>\n",
       "      <td>197</td>\n",
       "      <td>61</td>\n",
       "      <td>9</td>\n",
       "      <td>20</td>\n",
       "      <td>12</td>\n",
       "      <td>...</td>\n",
       "      <td>0.912</td>\n",
       "      <td>9.9</td>\n",
       "      <td>2703</td>\n",
       "      <td>2399</td>\n",
       "      <td>-0.07</td>\n",
       "      <td>0.62</td>\n",
       "      <td>Boston Bruins*</td>\n",
       "      <td>5.90</td>\n",
       "      <td>50</td>\n",
       "      <td>3</td>\n",
       "    </tr>\n",
       "    <tr>\n",
       "      <th>4</th>\n",
       "      <td>28.0</td>\n",
       "      <td>248</td>\n",
       "      <td>82</td>\n",
       "      <td>272</td>\n",
       "      <td>182</td>\n",
       "      <td>218</td>\n",
       "      <td>53</td>\n",
       "      <td>8</td>\n",
       "      <td>24</td>\n",
       "      <td>7</td>\n",
       "      <td>...</td>\n",
       "      <td>0.911</td>\n",
       "      <td>10.1</td>\n",
       "      <td>2774</td>\n",
       "      <td>2619</td>\n",
       "      <td>-0.01</td>\n",
       "      <td>0.52</td>\n",
       "      <td>Vegas Golden Knights*</td>\n",
       "      <td>6.10</td>\n",
       "      <td>51</td>\n",
       "      <td>4</td>\n",
       "    </tr>\n",
       "  </tbody>\n",
       "</table>\n",
       "<p>5 rows × 32 columns</p>\n",
       "</div>"
      ],
      "text/plain": [
       "   average_age  chances_pp  games  goals  goals_against_ev  goals_ev  \\\n",
       "0         28.4         274     82    267               145       193   \n",
       "1         26.8         274     82    277               159       200   \n",
       "2         27.5         276     82    296               172       216   \n",
       "3         28.6         258     82    270               161       197   \n",
       "4         28.0         248     82    272               182       218   \n",
       "\n",
       "   goals_pp  goals_sh  losses  losses_ot      ...        save_pct  shot_pct  \\\n",
       "0        58        10      18         11      ...           0.923       9.9   \n",
       "1        64         9      20         10      ...           0.917      10.3   \n",
       "2        66         9      23          5      ...           0.912      10.7   \n",
       "3        61         9      20         12      ...           0.912       9.9   \n",
       "4        53         8      24          7      ...           0.911      10.1   \n",
       "\n",
       "   shots  shots_against   sos   srs              team_name  \\\n",
       "0   2641           2659  0.03  0.71   Nashville Predators*   \n",
       "1   2643           2613  0.02  0.74         Winnipeg Jets*   \n",
       "2   2737           2756 -0.07  0.66   Tampa Bay Lightning*   \n",
       "3   2703           2399 -0.07  0.62         Boston Bruins*   \n",
       "4   2774           2619 -0.01  0.52  Vegas Golden Knights*   \n",
       "\n",
       "   total_goals_per_game  wins  wins_shootout  \n",
       "0                  5.83    53              6  \n",
       "1                  6.04    52              4  \n",
       "2                  6.49    54              6  \n",
       "3                  5.90    50              3  \n",
       "4                  6.10    51              4  \n",
       "\n",
       "[5 rows x 32 columns]"
      ]
     },
     "execution_count": 91,
     "metadata": {},
     "output_type": "execute_result"
    }
   ],
   "source": [
    "league_season.head()"
   ]
  },
  {
   "cell_type": "markdown",
   "metadata": {},
   "source": [
    "#### Saving to CSV\n",
    "\n",
    "- Again each year was saved independently"
   ]
  },
  {
   "cell_type": "code",
   "execution_count": null,
   "metadata": {},
   "outputs": [],
   "source": [
    "league_season.to_csv('2007 team stats.csv')"
   ]
  },
  {
   "cell_type": "markdown",
   "metadata": {},
   "source": [
    "  ---"
   ]
  },
  {
   "cell_type": "markdown",
   "metadata": {},
   "source": [
    "## Function for scraping Advanced Player Statistics"
   ]
  },
  {
   "cell_type": "code",
   "execution_count": 115,
   "metadata": {},
   "outputs": [],
   "source": [
    "def get_advanced_player(url):\n",
    "    res = requests.get(url).content\n",
    "    res = res.decode('utf-8')\n",
    "    advanced_soup = BeautifulSoup(re.sub('<!--|-->', '', res), 'lxml')\n",
    "    team_name = advanced_soup.find('h1', {'itemprop': 'name'}).find_all('span')[1].text\n",
    "    table = advanced_soup.find('div', {'id': 'div_stats_adv_rs'}).find('tbody')\n",
    "    advanced_season = []\n",
    "    for row in table.find_all('tr'):\n",
    "        season = {}\n",
    "        for element in row.find_all('td'):\n",
    "            stat = element.text\n",
    "            temp = element.attrs\n",
    "            column = temp['data-stat']\n",
    "            season.update({column: stat})\n",
    "        advanced_season.append(season)\n",
    "    advanced_season = pd.DataFrame(advanced_season)\n",
    "    advanced_season['team'] = team_name\n",
    "    cols=[i for i in advanced_season.columns if i not in ['player', 'pos', 'team', 'toi_pbp_per_60_all', 'toi_pbp_per_60_ev']]\n",
    "    for col in cols:\n",
    "        advanced_season[col]=pd.to_numeric(advanced_season[col])\n",
    "    return advanced_season"
   ]
  },
  {
   "cell_type": "markdown",
   "metadata": {},
   "source": [
    "### For loop for scraping advanced player stats\n",
    "\n",
    "- Similar to the previous for loop, this will output one year of data which will be saved to csv.\n",
    "- Turns out there are no skater advanced statistics for 2007."
   ]
  },
  {
   "cell_type": "code",
   "execution_count": 152,
   "metadata": {},
   "outputs": [],
   "source": [
    "base_url = 'https://www.hockey-reference.com'\n",
    "teams = team_links\n",
    "years = ['2008.html']\n",
    "advanced_year_df = pd.DataFrame()\n",
    "for team in teams:\n",
    "    try:\n",
    "        for year in years:\n",
    "            url = base_url + team + year\n",
    "            advanced_year = get_advanced_player(url)\n",
    "            advanced_df = pd.DataFrame(advanced_year)\n",
    "            advanced_year_df = pd.concat([advanced_year_df, advanced_df], axis=0)\n",
    "            advanced_year_df.reset_index(drop=True, inplace=True)\n",
    "            time.sleep(2)               \n",
    "    except:\n",
    "        continue"
   ]
  },
  {
   "cell_type": "code",
   "execution_count": 149,
   "metadata": {},
   "outputs": [],
   "source": [
    "advanced_year_df.to_csv('2008 advanced stats.csv')"
   ]
  }
 ],
 "metadata": {
  "kernelspec": {
   "display_name": "Python [conda env:anaconda3]",
   "language": "python",
   "name": "conda-env-anaconda3-py"
  },
  "language_info": {
   "codemirror_mode": {
    "name": "ipython",
    "version": 3
   },
   "file_extension": ".py",
   "mimetype": "text/x-python",
   "name": "python",
   "nbconvert_exporter": "python",
   "pygments_lexer": "ipython3",
   "version": "3.6.5"
  }
 },
 "nbformat": 4,
 "nbformat_minor": 2
}
