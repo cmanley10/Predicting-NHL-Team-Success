{
 "cells": [
  {
   "cell_type": "code",
   "execution_count": 1,
   "metadata": {},
   "outputs": [
    {
     "name": "stderr",
     "output_type": "stream",
     "text": [
      "/Users/christophermanley/anaconda3/lib/python3.6/site-packages/sklearn/cross_validation.py:41: DeprecationWarning: This module was deprecated in version 0.18 in favor of the model_selection module into which all the refactored classes and functions are moved. Also note that the interface of the new CV iterators are different from that of this module. This module will be removed in 0.20.\n",
      "  \"This module will be removed in 0.20.\", DeprecationWarning)\n"
     ]
    }
   ],
   "source": [
    "import pandas as pd\n",
    "import numpy as np\n",
    "import matplotlib.pyplot as plt\n",
    "import seaborn as sns\n",
    "\n",
    "from sklearn.model_selection import cross_val_predict, cross_val_score\n",
    "from sklearn.linear_model import LogisticRegressionCV, LogisticRegression, RidgeClassifierCV\n",
    "from sklearn.metrics import accuracy_score, confusion_matrix, roc_auc_score\n",
    "from sklearn.preprocessing import StandardScaler\n",
    "from sklearn.cross_validation import train_test_split\n",
    "\n",
    "%matplotlib inline"
   ]
  },
  {
   "cell_type": "code",
   "execution_count": 2,
   "metadata": {},
   "outputs": [],
   "source": [
    "pd.set_option('display.max_columns', 500)"
   ]
  },
  {
   "cell_type": "markdown",
   "metadata": {},
   "source": [
    "### Importing data"
   ]
  },
  {
   "cell_type": "code",
   "execution_count": 3,
   "metadata": {},
   "outputs": [],
   "source": [
    "team_stats = pd.read_csv('./Data/full team stats.csv', index_col=0)\n",
    "player_stats = pd.read_csv('./Data/full player stats.csv', index_col=0)\n",
    "advanced_stats = pd.read_csv('./Data/full advanced stats.csv', index_col=0)\n",
    "\n",
    "cup_champs = pd.read_csv('./Data/cup champs.csv', index_col=0)\n",
    "team_ranks = pd.read_csv('./Data/NHL Rankings 2008-2018 vertical.csv', index_col=0)"
   ]
  },
  {
   "cell_type": "markdown",
   "metadata": {},
   "source": [
    "#### Couple more items to clean up\n",
    "\n",
    "- Renaming the 'team_name' column in the team stats dataframe to just 'team' to match the player and advanced stats dfs.\n",
    "- There is a discrepancy in the dataframes between the St Louis Blues name. The 'advanced_stat' and 'player_stat' dataframes have a period after St(.). I'm removing that so the team names match\n",
    "- resetting index and cleaning the team ranks dataframe"
   ]
  },
  {
   "cell_type": "code",
   "execution_count": 4,
   "metadata": {},
   "outputs": [],
   "source": [
    "team_stats.rename(columns={'team_name': 'team'}, inplace=True)\n",
    "\n",
    "advanced_stats['team'] = advanced_stats['team'].replace('[^A-Za-z ]', '', regex=True)\n",
    "player_stats['team'] = player_stats['team'].replace('[^A-Za-z ]', '', regex=True)"
   ]
  },
  {
   "cell_type": "code",
   "execution_count": 5,
   "metadata": {},
   "outputs": [
    {
     "data": {
      "text/plain": [
       "0        Washington Capitals\n",
       "1       Vegas Golden Knights\n",
       "2              Winnipeg Jets\n",
       "3        Tampa Bay Lightning\n",
       "4        Nashville Predators\n",
       "5            San Jose Sharks\n",
       "6              Boston Bruins\n",
       "7        Pittsburgh Penguins\n",
       "8        Philadelphia Flyers\n",
       "9        Toronto Maple Leafs\n",
       "10     Columbus Blue Jackets\n",
       "11          New Jersey Devis\n",
       "12             Anaheim Ducks\n",
       "13            Minnesota Wild\n",
       "14         Los Angeles Kings\n",
       "15        Colorado Avalanche\n",
       "16           Ottawa Senators\n",
       "17           St. Louis Blues\n",
       "18           Edmonton Oilers\n",
       "19          New York Rangers\n",
       "20        Montreal Canadians\n",
       "21            Calgary Flames\n",
       "22        Chicago Blackhawks\n",
       "23              Dallas Stars\n",
       "24        New York Islanders\n",
       "25         Detroit Red Wings\n",
       "26          Florida Panthers\n",
       "27         Vancouver Canucks\n",
       "28           Arizona Coyotes\n",
       "29            Buffalo Sabres\n",
       "               ...          \n",
       "301        Detroit Red Wings\n",
       "302      Pittsburgh Penguins\n",
       "303             Dallas Stars\n",
       "304      Philadelphia Flyers\n",
       "305          San Jose Sharks\n",
       "306       Montreal Canadians\n",
       "307         New York Rangers\n",
       "308       Colorado Avalanche\n",
       "309            Anaheim Ducks\n",
       "310         New Jersey Devis\n",
       "311           Minnesota Wild\n",
       "312          Ottawa Senators\n",
       "313            Boston Bruins\n",
       "314           Calgary Flames\n",
       "315      Washington Capitals\n",
       "316      Nashville Predators\n",
       "317      Carolina Hurricanes\n",
       "318           Buffalo Sabres\n",
       "319        Vancouver Canucks\n",
       "320       Chicago Blackhawks\n",
       "321          Edmonton Oilers\n",
       "322         Florida Panthers\n",
       "323          Arizona Coyotes\n",
       "324      Toronto Maple Leafs\n",
       "325    Columbus Blue Jackets\n",
       "326          St. Louis Blues\n",
       "327       New York Islanders\n",
       "328            Winnipeg Jets\n",
       "329        Los Angeles Kings\n",
       "330      Tampa Bay Lightning\n",
       "Name: team, Length: 331, dtype: object"
      ]
     },
     "execution_count": 5,
     "metadata": {},
     "output_type": "execute_result"
    }
   ],
   "source": [
    "team_ranks.reset_index(inplace=True)\n",
    "\n",
    "team_ranks.rename(columns={'Team': 'team', 'Year': 'year', 'Rank': 'rank'}, inplace=True)\n",
    "\n",
    "team_ranks['team'].map(lambda x: 'Winnipeg Jets' if 'Jets' in x else x)"
   ]
  },
  {
   "cell_type": "code",
   "execution_count": 6,
   "metadata": {},
   "outputs": [],
   "source": [
    "stats_rank = pd.merge(team_stats, team_ranks, on=['team', 'year'])"
   ]
  },
  {
   "cell_type": "code",
   "execution_count": 7,
   "metadata": {},
   "outputs": [],
   "source": [
    "stats_rank['ind'] = stats_rank['team'] + '_' + stats_rank['year'].astype(str)"
   ]
  },
  {
   "cell_type": "code",
   "execution_count": 8,
   "metadata": {},
   "outputs": [],
   "source": [
    "stats_rank.set_index('ind', inplace=True)"
   ]
  },
  {
   "cell_type": "code",
   "execution_count": 9,
   "metadata": {},
   "outputs": [
    {
     "data": {
      "text/html": [
       "<div>\n",
       "<style scoped>\n",
       "    .dataframe tbody tr th:only-of-type {\n",
       "        vertical-align: middle;\n",
       "    }\n",
       "\n",
       "    .dataframe tbody tr th {\n",
       "        vertical-align: top;\n",
       "    }\n",
       "\n",
       "    .dataframe thead th {\n",
       "        text-align: right;\n",
       "    }\n",
       "</style>\n",
       "<table border=\"1\" class=\"dataframe\">\n",
       "  <thead>\n",
       "    <tr style=\"text-align: right;\">\n",
       "      <th></th>\n",
       "      <th>average_age</th>\n",
       "      <th>chances_pp</th>\n",
       "      <th>games</th>\n",
       "      <th>goals</th>\n",
       "      <th>goals_against_ev</th>\n",
       "      <th>goals_ev</th>\n",
       "      <th>goals_pp</th>\n",
       "      <th>goals_sh</th>\n",
       "      <th>losses</th>\n",
       "      <th>losses_ot</th>\n",
       "      <th>losses_shootout</th>\n",
       "      <th>opp_chances_pp</th>\n",
       "      <th>opp_goals</th>\n",
       "      <th>opp_goals_pp</th>\n",
       "      <th>opp_goals_sh</th>\n",
       "      <th>pdo</th>\n",
       "      <th>pen_kill_pct</th>\n",
       "      <th>pen_min_per_game</th>\n",
       "      <th>pen_min_per_game_opp</th>\n",
       "      <th>points</th>\n",
       "      <th>points_pct</th>\n",
       "      <th>power_play_pct</th>\n",
       "      <th>save_pct</th>\n",
       "      <th>shot_pct</th>\n",
       "      <th>shots</th>\n",
       "      <th>shots_against</th>\n",
       "      <th>sos</th>\n",
       "      <th>srs</th>\n",
       "      <th>team</th>\n",
       "      <th>total_goals_per_game</th>\n",
       "      <th>wins</th>\n",
       "      <th>wins_shootout</th>\n",
       "      <th>year</th>\n",
       "      <th>is_champ</th>\n",
       "      <th>rank</th>\n",
       "    </tr>\n",
       "    <tr>\n",
       "      <th>ind</th>\n",
       "      <th></th>\n",
       "      <th></th>\n",
       "      <th></th>\n",
       "      <th></th>\n",
       "      <th></th>\n",
       "      <th></th>\n",
       "      <th></th>\n",
       "      <th></th>\n",
       "      <th></th>\n",
       "      <th></th>\n",
       "      <th></th>\n",
       "      <th></th>\n",
       "      <th></th>\n",
       "      <th></th>\n",
       "      <th></th>\n",
       "      <th></th>\n",
       "      <th></th>\n",
       "      <th></th>\n",
       "      <th></th>\n",
       "      <th></th>\n",
       "      <th></th>\n",
       "      <th></th>\n",
       "      <th></th>\n",
       "      <th></th>\n",
       "      <th></th>\n",
       "      <th></th>\n",
       "      <th></th>\n",
       "      <th></th>\n",
       "      <th></th>\n",
       "      <th></th>\n",
       "      <th></th>\n",
       "      <th></th>\n",
       "      <th></th>\n",
       "      <th></th>\n",
       "      <th></th>\n",
       "    </tr>\n",
       "  </thead>\n",
       "  <tbody>\n",
       "    <tr>\n",
       "      <th>Nashville Predators_2018</th>\n",
       "      <td>28.4</td>\n",
       "      <td>274</td>\n",
       "      <td>82</td>\n",
       "      <td>267</td>\n",
       "      <td>145</td>\n",
       "      <td>193</td>\n",
       "      <td>58</td>\n",
       "      <td>10</td>\n",
       "      <td>18</td>\n",
       "      <td>11</td>\n",
       "      <td>7</td>\n",
       "      <td>299</td>\n",
       "      <td>211</td>\n",
       "      <td>54</td>\n",
       "      <td>5</td>\n",
       "      <td>101.6</td>\n",
       "      <td>81.94</td>\n",
       "      <td>11.3</td>\n",
       "      <td>9.6</td>\n",
       "      <td>117</td>\n",
       "      <td>0.713</td>\n",
       "      <td>21.17</td>\n",
       "      <td>0.923</td>\n",
       "      <td>9.9</td>\n",
       "      <td>2641</td>\n",
       "      <td>2659</td>\n",
       "      <td>0.03</td>\n",
       "      <td>0.71</td>\n",
       "      <td>Nashville Predators</td>\n",
       "      <td>5.83</td>\n",
       "      <td>53</td>\n",
       "      <td>6</td>\n",
       "      <td>2018</td>\n",
       "      <td>0</td>\n",
       "      <td>5</td>\n",
       "    </tr>\n",
       "    <tr>\n",
       "      <th>Tampa Bay Lightning_2018</th>\n",
       "      <td>27.5</td>\n",
       "      <td>276</td>\n",
       "      <td>82</td>\n",
       "      <td>296</td>\n",
       "      <td>172</td>\n",
       "      <td>216</td>\n",
       "      <td>66</td>\n",
       "      <td>9</td>\n",
       "      <td>23</td>\n",
       "      <td>5</td>\n",
       "      <td>2</td>\n",
       "      <td>267</td>\n",
       "      <td>236</td>\n",
       "      <td>64</td>\n",
       "      <td>3</td>\n",
       "      <td>102.0</td>\n",
       "      <td>76.03</td>\n",
       "      <td>10.1</td>\n",
       "      <td>10.4</td>\n",
       "      <td>113</td>\n",
       "      <td>0.689</td>\n",
       "      <td>23.91</td>\n",
       "      <td>0.912</td>\n",
       "      <td>10.7</td>\n",
       "      <td>2737</td>\n",
       "      <td>2756</td>\n",
       "      <td>-0.07</td>\n",
       "      <td>0.66</td>\n",
       "      <td>Tampa Bay Lightning</td>\n",
       "      <td>6.49</td>\n",
       "      <td>54</td>\n",
       "      <td>6</td>\n",
       "      <td>2018</td>\n",
       "      <td>0</td>\n",
       "      <td>4</td>\n",
       "    </tr>\n",
       "    <tr>\n",
       "      <th>Boston Bruins_2018</th>\n",
       "      <td>28.6</td>\n",
       "      <td>258</td>\n",
       "      <td>82</td>\n",
       "      <td>270</td>\n",
       "      <td>161</td>\n",
       "      <td>197</td>\n",
       "      <td>61</td>\n",
       "      <td>9</td>\n",
       "      <td>20</td>\n",
       "      <td>12</td>\n",
       "      <td>3</td>\n",
       "      <td>245</td>\n",
       "      <td>214</td>\n",
       "      <td>40</td>\n",
       "      <td>10</td>\n",
       "      <td>100.2</td>\n",
       "      <td>83.67</td>\n",
       "      <td>9.5</td>\n",
       "      <td>9.6</td>\n",
       "      <td>112</td>\n",
       "      <td>0.683</td>\n",
       "      <td>23.64</td>\n",
       "      <td>0.912</td>\n",
       "      <td>9.9</td>\n",
       "      <td>2703</td>\n",
       "      <td>2399</td>\n",
       "      <td>-0.07</td>\n",
       "      <td>0.62</td>\n",
       "      <td>Boston Bruins</td>\n",
       "      <td>5.90</td>\n",
       "      <td>50</td>\n",
       "      <td>3</td>\n",
       "      <td>2018</td>\n",
       "      <td>0</td>\n",
       "      <td>7</td>\n",
       "    </tr>\n",
       "    <tr>\n",
       "      <th>Vegas Golden Knights_2018</th>\n",
       "      <td>28.0</td>\n",
       "      <td>248</td>\n",
       "      <td>82</td>\n",
       "      <td>272</td>\n",
       "      <td>182</td>\n",
       "      <td>218</td>\n",
       "      <td>53</td>\n",
       "      <td>8</td>\n",
       "      <td>24</td>\n",
       "      <td>7</td>\n",
       "      <td>3</td>\n",
       "      <td>237</td>\n",
       "      <td>228</td>\n",
       "      <td>44</td>\n",
       "      <td>5</td>\n",
       "      <td>100.5</td>\n",
       "      <td>81.43</td>\n",
       "      <td>7.1</td>\n",
       "      <td>7.8</td>\n",
       "      <td>109</td>\n",
       "      <td>0.665</td>\n",
       "      <td>21.37</td>\n",
       "      <td>0.911</td>\n",
       "      <td>10.1</td>\n",
       "      <td>2774</td>\n",
       "      <td>2619</td>\n",
       "      <td>-0.01</td>\n",
       "      <td>0.52</td>\n",
       "      <td>Vegas Golden Knights</td>\n",
       "      <td>6.10</td>\n",
       "      <td>51</td>\n",
       "      <td>4</td>\n",
       "      <td>2018</td>\n",
       "      <td>0</td>\n",
       "      <td>2</td>\n",
       "    </tr>\n",
       "    <tr>\n",
       "      <th>Washington Capitals_2018</th>\n",
       "      <td>28.4</td>\n",
       "      <td>244</td>\n",
       "      <td>82</td>\n",
       "      <td>259</td>\n",
       "      <td>178</td>\n",
       "      <td>197</td>\n",
       "      <td>55</td>\n",
       "      <td>4</td>\n",
       "      <td>26</td>\n",
       "      <td>7</td>\n",
       "      <td>1</td>\n",
       "      <td>269</td>\n",
       "      <td>239</td>\n",
       "      <td>53</td>\n",
       "      <td>8</td>\n",
       "      <td>101.4</td>\n",
       "      <td>80.30</td>\n",
       "      <td>9.9</td>\n",
       "      <td>9.3</td>\n",
       "      <td>105</td>\n",
       "      <td>0.640</td>\n",
       "      <td>22.54</td>\n",
       "      <td>0.909</td>\n",
       "      <td>10.7</td>\n",
       "      <td>2400</td>\n",
       "      <td>2637</td>\n",
       "      <td>-0.04</td>\n",
       "      <td>0.21</td>\n",
       "      <td>Washington Capitals</td>\n",
       "      <td>6.07</td>\n",
       "      <td>49</td>\n",
       "      <td>3</td>\n",
       "      <td>2018</td>\n",
       "      <td>1</td>\n",
       "      <td>1</td>\n",
       "    </tr>\n",
       "  </tbody>\n",
       "</table>\n",
       "</div>"
      ],
      "text/plain": [
       "                           average_age  chances_pp  games  goals  \\\n",
       "ind                                                                \n",
       "Nashville Predators_2018          28.4         274     82    267   \n",
       "Tampa Bay Lightning_2018          27.5         276     82    296   \n",
       "Boston Bruins_2018                28.6         258     82    270   \n",
       "Vegas Golden Knights_2018         28.0         248     82    272   \n",
       "Washington Capitals_2018          28.4         244     82    259   \n",
       "\n",
       "                           goals_against_ev  goals_ev  goals_pp  goals_sh  \\\n",
       "ind                                                                         \n",
       "Nashville Predators_2018                145       193        58        10   \n",
       "Tampa Bay Lightning_2018                172       216        66         9   \n",
       "Boston Bruins_2018                      161       197        61         9   \n",
       "Vegas Golden Knights_2018               182       218        53         8   \n",
       "Washington Capitals_2018                178       197        55         4   \n",
       "\n",
       "                           losses  losses_ot  losses_shootout  opp_chances_pp  \\\n",
       "ind                                                                             \n",
       "Nashville Predators_2018       18         11                7             299   \n",
       "Tampa Bay Lightning_2018       23          5                2             267   \n",
       "Boston Bruins_2018             20         12                3             245   \n",
       "Vegas Golden Knights_2018      24          7                3             237   \n",
       "Washington Capitals_2018       26          7                1             269   \n",
       "\n",
       "                           opp_goals  opp_goals_pp  opp_goals_sh    pdo  \\\n",
       "ind                                                                       \n",
       "Nashville Predators_2018         211            54             5  101.6   \n",
       "Tampa Bay Lightning_2018         236            64             3  102.0   \n",
       "Boston Bruins_2018               214            40            10  100.2   \n",
       "Vegas Golden Knights_2018        228            44             5  100.5   \n",
       "Washington Capitals_2018         239            53             8  101.4   \n",
       "\n",
       "                           pen_kill_pct  pen_min_per_game  \\\n",
       "ind                                                         \n",
       "Nashville Predators_2018          81.94              11.3   \n",
       "Tampa Bay Lightning_2018          76.03              10.1   \n",
       "Boston Bruins_2018                83.67               9.5   \n",
       "Vegas Golden Knights_2018         81.43               7.1   \n",
       "Washington Capitals_2018          80.30               9.9   \n",
       "\n",
       "                           pen_min_per_game_opp  points  points_pct  \\\n",
       "ind                                                                   \n",
       "Nashville Predators_2018                    9.6     117       0.713   \n",
       "Tampa Bay Lightning_2018                   10.4     113       0.689   \n",
       "Boston Bruins_2018                          9.6     112       0.683   \n",
       "Vegas Golden Knights_2018                   7.8     109       0.665   \n",
       "Washington Capitals_2018                    9.3     105       0.640   \n",
       "\n",
       "                           power_play_pct  save_pct  shot_pct  shots  \\\n",
       "ind                                                                    \n",
       "Nashville Predators_2018            21.17     0.923       9.9   2641   \n",
       "Tampa Bay Lightning_2018            23.91     0.912      10.7   2737   \n",
       "Boston Bruins_2018                  23.64     0.912       9.9   2703   \n",
       "Vegas Golden Knights_2018           21.37     0.911      10.1   2774   \n",
       "Washington Capitals_2018            22.54     0.909      10.7   2400   \n",
       "\n",
       "                           shots_against   sos   srs                  team  \\\n",
       "ind                                                                          \n",
       "Nashville Predators_2018            2659  0.03  0.71   Nashville Predators   \n",
       "Tampa Bay Lightning_2018            2756 -0.07  0.66   Tampa Bay Lightning   \n",
       "Boston Bruins_2018                  2399 -0.07  0.62         Boston Bruins   \n",
       "Vegas Golden Knights_2018           2619 -0.01  0.52  Vegas Golden Knights   \n",
       "Washington Capitals_2018            2637 -0.04  0.21   Washington Capitals   \n",
       "\n",
       "                           total_goals_per_game  wins  wins_shootout  year  \\\n",
       "ind                                                                          \n",
       "Nashville Predators_2018                   5.83    53              6  2018   \n",
       "Tampa Bay Lightning_2018                   6.49    54              6  2018   \n",
       "Boston Bruins_2018                         5.90    50              3  2018   \n",
       "Vegas Golden Knights_2018                  6.10    51              4  2018   \n",
       "Washington Capitals_2018                   6.07    49              3  2018   \n",
       "\n",
       "                           is_champ  rank  \n",
       "ind                                        \n",
       "Nashville Predators_2018          0     5  \n",
       "Tampa Bay Lightning_2018          0     4  \n",
       "Boston Bruins_2018                0     7  \n",
       "Vegas Golden Knights_2018         0     2  \n",
       "Washington Capitals_2018          1     1  "
      ]
     },
     "execution_count": 9,
     "metadata": {},
     "output_type": "execute_result"
    }
   ],
   "source": [
    "stats_rank.head()"
   ]
  },
  {
   "cell_type": "code",
   "execution_count": 10,
   "metadata": {},
   "outputs": [],
   "source": [
    "X = stats_rank.drop(columns=['rank', 'is_champ', 'team'])\n",
    "y = stats_rank[['rank', 'year']]"
   ]
  },
  {
   "cell_type": "code",
   "execution_count": 11,
   "metadata": {},
   "outputs": [],
   "source": [
    "X_train = X[(X['year'] != 2016) & (X['year'] != 2009)].drop(columns='year')"
   ]
  },
  {
   "cell_type": "code",
   "execution_count": 12,
   "metadata": {},
   "outputs": [],
   "source": [
    "X_test = X[X['year'].isin([2016, 2009])].drop(columns='year')"
   ]
  },
  {
   "cell_type": "code",
   "execution_count": 13,
   "metadata": {},
   "outputs": [],
   "source": [
    "y_test = y[y['year'].isin([2016, 2009])].drop(columns='year')"
   ]
  },
  {
   "cell_type": "code",
   "execution_count": 14,
   "metadata": {},
   "outputs": [],
   "source": [
    "y_train = y[(y['year'] != 2016) & (y['year'] != 2009)].drop(columns='year')"
   ]
  },
  {
   "cell_type": "code",
   "execution_count": 18,
   "metadata": {},
   "outputs": [
    {
     "data": {
      "text/html": [
       "<div>\n",
       "<style scoped>\n",
       "    .dataframe tbody tr th:only-of-type {\n",
       "        vertical-align: middle;\n",
       "    }\n",
       "\n",
       "    .dataframe tbody tr th {\n",
       "        vertical-align: top;\n",
       "    }\n",
       "\n",
       "    .dataframe thead th {\n",
       "        text-align: right;\n",
       "    }\n",
       "</style>\n",
       "<table border=\"1\" class=\"dataframe\">\n",
       "  <thead>\n",
       "    <tr style=\"text-align: right;\">\n",
       "      <th></th>\n",
       "      <th>rank</th>\n",
       "    </tr>\n",
       "    <tr>\n",
       "      <th>ind</th>\n",
       "      <th></th>\n",
       "    </tr>\n",
       "  </thead>\n",
       "  <tbody>\n",
       "    <tr>\n",
       "      <th>Nashville Predators_2018</th>\n",
       "      <td>5</td>\n",
       "    </tr>\n",
       "    <tr>\n",
       "      <th>Tampa Bay Lightning_2018</th>\n",
       "      <td>4</td>\n",
       "    </tr>\n",
       "    <tr>\n",
       "      <th>Boston Bruins_2018</th>\n",
       "      <td>7</td>\n",
       "    </tr>\n",
       "    <tr>\n",
       "      <th>Vegas Golden Knights_2018</th>\n",
       "      <td>2</td>\n",
       "    </tr>\n",
       "    <tr>\n",
       "      <th>Washington Capitals_2018</th>\n",
       "      <td>1</td>\n",
       "    </tr>\n",
       "  </tbody>\n",
       "</table>\n",
       "</div>"
      ],
      "text/plain": [
       "                           rank\n",
       "ind                            \n",
       "Nashville Predators_2018      5\n",
       "Tampa Bay Lightning_2018      4\n",
       "Boston Bruins_2018            7\n",
       "Vegas Golden Knights_2018     2\n",
       "Washington Capitals_2018      1"
      ]
     },
     "execution_count": 18,
     "metadata": {},
     "output_type": "execute_result"
    }
   ],
   "source": [
    "y_train.head()"
   ]
  },
  {
   "cell_type": "code",
   "execution_count": 19,
   "metadata": {},
   "outputs": [
    {
     "name": "stderr",
     "output_type": "stream",
     "text": [
      "/Users/christophermanley/anaconda3/lib/python3.6/site-packages/sklearn/utils/validation.py:578: DataConversionWarning: A column-vector y was passed when a 1d array was expected. Please change the shape of y to (n_samples, ), for example using ravel().\n",
      "  y = column_or_1d(y, warn=True)\n"
     ]
    }
   ],
   "source": [
    "logreg = LogisticRegression(random_state=28, multi_class='multinomial', solver='lbfgs')\n",
    "model = logreg.fit(X_train, y_train)"
   ]
  },
  {
   "cell_type": "code",
   "execution_count": 20,
   "metadata": {},
   "outputs": [
    {
     "data": {
      "text/plain": [
       "0.2183406113537118"
      ]
     },
     "execution_count": 20,
     "metadata": {},
     "output_type": "execute_result"
    }
   ],
   "source": [
    "model.predict(X_train)\n",
    "model.score(X_train, y_train)"
   ]
  },
  {
   "cell_type": "code",
   "execution_count": 21,
   "metadata": {},
   "outputs": [
    {
     "data": {
      "text/plain": [
       "array([[6.48818181e-02, 1.09484168e-01, 3.16599513e-02, ...,\n",
       "        4.82071931e-06, 4.57718155e-09, 5.17986736e-11],\n",
       "       [1.44794026e-02, 8.10556477e-02, 1.64175848e-02, ...,\n",
       "        1.89926274e-05, 1.20933265e-08, 3.94211960e-10],\n",
       "       [7.45788202e-02, 1.00342726e-01, 4.27152823e-02, ...,\n",
       "        1.12092658e-05, 1.79964679e-08, 9.20038753e-06],\n",
       "       ...,\n",
       "       [3.54259750e-04, 1.31510978e-03, 3.54862048e-04, ...,\n",
       "        4.20352696e-02, 1.21262399e-01, 1.22208497e-12],\n",
       "       [6.70350284e-06, 6.47706909e-04, 5.62624265e-05, ...,\n",
       "        5.43874178e-02, 1.95170775e-01, 2.45445317e-14],\n",
       "       [6.12294914e-06, 1.54599175e-04, 1.14911867e-04, ...,\n",
       "        6.90535319e-02, 3.96581639e-01, 5.22648417e-10]])"
      ]
     },
     "execution_count": 21,
     "metadata": {},
     "output_type": "execute_result"
    }
   ],
   "source": [
    "model.predict_proba(X_train)"
   ]
  },
  {
   "cell_type": "code",
   "execution_count": 22,
   "metadata": {},
   "outputs": [
    {
     "data": {
      "text/plain": [
       "0.11764705882352941"
      ]
     },
     "execution_count": 22,
     "metadata": {},
     "output_type": "execute_result"
    }
   ],
   "source": [
    "model.predict(X_test)\n",
    "model.score(X_test, y_test)"
   ]
  },
  {
   "cell_type": "code",
   "execution_count": 28,
   "metadata": {},
   "outputs": [],
   "source": [
    "predictions = pd.DataFrame(model.predict(X_test))"
   ]
  },
  {
   "cell_type": "code",
   "execution_count": 30,
   "metadata": {},
   "outputs": [
    {
     "data": {
      "text/html": [
       "<div>\n",
       "<style scoped>\n",
       "    .dataframe tbody tr th:only-of-type {\n",
       "        vertical-align: middle;\n",
       "    }\n",
       "\n",
       "    .dataframe tbody tr th {\n",
       "        vertical-align: top;\n",
       "    }\n",
       "\n",
       "    .dataframe thead th {\n",
       "        text-align: right;\n",
       "    }\n",
       "</style>\n",
       "<table border=\"1\" class=\"dataframe\">\n",
       "  <thead>\n",
       "    <tr style=\"text-align: right;\">\n",
       "      <th></th>\n",
       "      <th>0</th>\n",
       "    </tr>\n",
       "  </thead>\n",
       "  <tbody>\n",
       "    <tr>\n",
       "      <th>0</th>\n",
       "      <td>9</td>\n",
       "    </tr>\n",
       "    <tr>\n",
       "      <th>1</th>\n",
       "      <td>3</td>\n",
       "    </tr>\n",
       "    <tr>\n",
       "      <th>2</th>\n",
       "      <td>1</td>\n",
       "    </tr>\n",
       "    <tr>\n",
       "      <th>3</th>\n",
       "      <td>1</td>\n",
       "    </tr>\n",
       "    <tr>\n",
       "      <th>4</th>\n",
       "      <td>9</td>\n",
       "    </tr>\n",
       "    <tr>\n",
       "      <th>5</th>\n",
       "      <td>6</td>\n",
       "    </tr>\n",
       "    <tr>\n",
       "      <th>6</th>\n",
       "      <td>1</td>\n",
       "    </tr>\n",
       "    <tr>\n",
       "      <th>7</th>\n",
       "      <td>11</td>\n",
       "    </tr>\n",
       "    <tr>\n",
       "      <th>8</th>\n",
       "      <td>6</td>\n",
       "    </tr>\n",
       "    <tr>\n",
       "      <th>9</th>\n",
       "      <td>7</td>\n",
       "    </tr>\n",
       "    <tr>\n",
       "      <th>10</th>\n",
       "      <td>2</td>\n",
       "    </tr>\n",
       "    <tr>\n",
       "      <th>11</th>\n",
       "      <td>15</td>\n",
       "    </tr>\n",
       "    <tr>\n",
       "      <th>12</th>\n",
       "      <td>7</td>\n",
       "    </tr>\n",
       "    <tr>\n",
       "      <th>13</th>\n",
       "      <td>6</td>\n",
       "    </tr>\n",
       "    <tr>\n",
       "      <th>14</th>\n",
       "      <td>17</td>\n",
       "    </tr>\n",
       "    <tr>\n",
       "      <th>15</th>\n",
       "      <td>13</td>\n",
       "    </tr>\n",
       "    <tr>\n",
       "      <th>16</th>\n",
       "      <td>19</td>\n",
       "    </tr>\n",
       "    <tr>\n",
       "      <th>17</th>\n",
       "      <td>28</td>\n",
       "    </tr>\n",
       "    <tr>\n",
       "      <th>18</th>\n",
       "      <td>28</td>\n",
       "    </tr>\n",
       "    <tr>\n",
       "      <th>19</th>\n",
       "      <td>17</td>\n",
       "    </tr>\n",
       "    <tr>\n",
       "      <th>20</th>\n",
       "      <td>24</td>\n",
       "    </tr>\n",
       "    <tr>\n",
       "      <th>21</th>\n",
       "      <td>19</td>\n",
       "    </tr>\n",
       "    <tr>\n",
       "      <th>22</th>\n",
       "      <td>27</td>\n",
       "    </tr>\n",
       "    <tr>\n",
       "      <th>23</th>\n",
       "      <td>26</td>\n",
       "    </tr>\n",
       "    <tr>\n",
       "      <th>24</th>\n",
       "      <td>29</td>\n",
       "    </tr>\n",
       "    <tr>\n",
       "      <th>25</th>\n",
       "      <td>24</td>\n",
       "    </tr>\n",
       "    <tr>\n",
       "      <th>26</th>\n",
       "      <td>5</td>\n",
       "    </tr>\n",
       "    <tr>\n",
       "      <th>27</th>\n",
       "      <td>9</td>\n",
       "    </tr>\n",
       "    <tr>\n",
       "      <th>28</th>\n",
       "      <td>12</td>\n",
       "    </tr>\n",
       "    <tr>\n",
       "      <th>29</th>\n",
       "      <td>3</td>\n",
       "    </tr>\n",
       "    <tr>\n",
       "      <th>30</th>\n",
       "      <td>5</td>\n",
       "    </tr>\n",
       "    <tr>\n",
       "      <th>31</th>\n",
       "      <td>4</td>\n",
       "    </tr>\n",
       "    <tr>\n",
       "      <th>32</th>\n",
       "      <td>4</td>\n",
       "    </tr>\n",
       "    <tr>\n",
       "      <th>33</th>\n",
       "      <td>9</td>\n",
       "    </tr>\n",
       "    <tr>\n",
       "      <th>34</th>\n",
       "      <td>7</td>\n",
       "    </tr>\n",
       "    <tr>\n",
       "      <th>35</th>\n",
       "      <td>7</td>\n",
       "    </tr>\n",
       "    <tr>\n",
       "      <th>36</th>\n",
       "      <td>22</td>\n",
       "    </tr>\n",
       "    <tr>\n",
       "      <th>37</th>\n",
       "      <td>9</td>\n",
       "    </tr>\n",
       "    <tr>\n",
       "      <th>38</th>\n",
       "      <td>12</td>\n",
       "    </tr>\n",
       "    <tr>\n",
       "      <th>39</th>\n",
       "      <td>16</td>\n",
       "    </tr>\n",
       "    <tr>\n",
       "      <th>40</th>\n",
       "      <td>20</td>\n",
       "    </tr>\n",
       "    <tr>\n",
       "      <th>41</th>\n",
       "      <td>17</td>\n",
       "    </tr>\n",
       "    <tr>\n",
       "      <th>42</th>\n",
       "      <td>24</td>\n",
       "    </tr>\n",
       "    <tr>\n",
       "      <th>43</th>\n",
       "      <td>21</td>\n",
       "    </tr>\n",
       "    <tr>\n",
       "      <th>44</th>\n",
       "      <td>25</td>\n",
       "    </tr>\n",
       "    <tr>\n",
       "      <th>45</th>\n",
       "      <td>24</td>\n",
       "    </tr>\n",
       "    <tr>\n",
       "      <th>46</th>\n",
       "      <td>25</td>\n",
       "    </tr>\n",
       "    <tr>\n",
       "      <th>47</th>\n",
       "      <td>24</td>\n",
       "    </tr>\n",
       "    <tr>\n",
       "      <th>48</th>\n",
       "      <td>30</td>\n",
       "    </tr>\n",
       "    <tr>\n",
       "      <th>49</th>\n",
       "      <td>30</td>\n",
       "    </tr>\n",
       "    <tr>\n",
       "      <th>50</th>\n",
       "      <td>30</td>\n",
       "    </tr>\n",
       "  </tbody>\n",
       "</table>\n",
       "</div>"
      ],
      "text/plain": [
       "     0\n",
       "0    9\n",
       "1    3\n",
       "2    1\n",
       "3    1\n",
       "4    9\n",
       "5    6\n",
       "6    1\n",
       "7   11\n",
       "8    6\n",
       "9    7\n",
       "10   2\n",
       "11  15\n",
       "12   7\n",
       "13   6\n",
       "14  17\n",
       "15  13\n",
       "16  19\n",
       "17  28\n",
       "18  28\n",
       "19  17\n",
       "20  24\n",
       "21  19\n",
       "22  27\n",
       "23  26\n",
       "24  29\n",
       "25  24\n",
       "26   5\n",
       "27   9\n",
       "28  12\n",
       "29   3\n",
       "30   5\n",
       "31   4\n",
       "32   4\n",
       "33   9\n",
       "34   7\n",
       "35   7\n",
       "36  22\n",
       "37   9\n",
       "38  12\n",
       "39  16\n",
       "40  20\n",
       "41  17\n",
       "42  24\n",
       "43  21\n",
       "44  25\n",
       "45  24\n",
       "46  25\n",
       "47  24\n",
       "48  30\n",
       "49  30\n",
       "50  30"
      ]
     },
     "execution_count": 30,
     "metadata": {},
     "output_type": "execute_result"
    }
   ],
   "source": [
    "predictions"
   ]
  },
  {
   "cell_type": "code",
   "execution_count": 36,
   "metadata": {},
   "outputs": [],
   "source": [
    "probs = model.predict_proba(X_test)"
   ]
  },
  {
   "cell_type": "code",
   "execution_count": 37,
   "metadata": {},
   "outputs": [
    {
     "data": {
      "text/plain": [
       "array([[8.41593541e-02, 1.13832081e-01, 8.26990236e-02, ...,\n",
       "        2.26542200e-06, 3.50088010e-09, 9.92945725e-08],\n",
       "       [3.12494185e-02, 4.31072244e-02, 1.43800699e-01, ...,\n",
       "        2.40767073e-05, 3.17475646e-07, 1.89112639e-03],\n",
       "       [2.42699843e-01, 1.08551973e-01, 2.83925158e-02, ...,\n",
       "        5.16697971e-05, 1.57709864e-07, 5.44307132e-05],\n",
       "       ...,\n",
       "       [8.89932789e-06, 1.03132088e-04, 2.20063124e-05, ...,\n",
       "        8.24319925e-02, 5.42297257e-01, 2.36355726e-11],\n",
       "       [1.12298458e-06, 3.24923682e-05, 9.69238413e-06, ...,\n",
       "        6.09108720e-02, 6.14841505e-01, 1.11130366e-17],\n",
       "       [8.64600063e-08, 2.85589432e-06, 1.49006298e-07, ...,\n",
       "        9.62505074e-02, 7.97502330e-01, 2.65064718e-17]])"
      ]
     },
     "execution_count": 37,
     "metadata": {},
     "output_type": "execute_result"
    }
   ],
   "source": [
    "probs"
   ]
  },
  {
   "cell_type": "code",
   "execution_count": 42,
   "metadata": {},
   "outputs": [
    {
     "ename": "TypeError",
     "evalue": "'int' object is not iterable",
     "output_type": "error",
     "traceback": [
      "\u001b[0;31m---------------------------------------------------------------------------\u001b[0m",
      "\u001b[0;31mTypeError\u001b[0m                                 Traceback (most recent call last)",
      "\u001b[0;32m<ipython-input-42-dd339cc2f9f5>\u001b[0m in \u001b[0;36m<module>\u001b[0;34m\u001b[0m\n\u001b[1;32m      1\u001b[0m \u001b[0mind\u001b[0m \u001b[0;34m=\u001b[0m \u001b[0mpd\u001b[0m\u001b[0;34m.\u001b[0m\u001b[0mSeries\u001b[0m\u001b[0;34m(\u001b[0m\u001b[0my_test\u001b[0m\u001b[0;34m.\u001b[0m\u001b[0mindex\u001b[0m\u001b[0;34m)\u001b[0m\u001b[0;34m\u001b[0m\u001b[0m\n\u001b[1;32m      2\u001b[0m \u001b[0my_t\u001b[0m \u001b[0;34m=\u001b[0m \u001b[0mpd\u001b[0m\u001b[0;34m.\u001b[0m\u001b[0mSeries\u001b[0m\u001b[0;34m(\u001b[0m\u001b[0my_test\u001b[0m\u001b[0;34m.\u001b[0m\u001b[0mrank\u001b[0m\u001b[0;34m)\u001b[0m\u001b[0;34m\u001b[0m\u001b[0m\n\u001b[0;32m----> 3\u001b[0;31m \u001b[0mpreds\u001b[0m \u001b[0;34m=\u001b[0m \u001b[0mpd\u001b[0m\u001b[0;34m.\u001b[0m\u001b[0mSeries\u001b[0m\u001b[0;34m(\u001b[0m\u001b[0mpredictions\u001b[0m\u001b[0;34m)\u001b[0m\u001b[0;34m\u001b[0m\u001b[0m\n\u001b[0m\u001b[1;32m      4\u001b[0m \u001b[0mprobs\u001b[0m \u001b[0;34m=\u001b[0m \u001b[0mpd\u001b[0m\u001b[0;34m.\u001b[0m\u001b[0mSeries\u001b[0m\u001b[0;34m(\u001b[0m\u001b[0mprobs\u001b[0m\u001b[0;34m)\u001b[0m\u001b[0;34m\u001b[0m\u001b[0m\n",
      "\u001b[0;32m~/anaconda3/lib/python3.6/site-packages/pandas/core/series.py\u001b[0m in \u001b[0;36m__init__\u001b[0;34m(self, data, index, dtype, name, copy, fastpath)\u001b[0m\n\u001b[1;32m    273\u001b[0m             \u001b[0;32melse\u001b[0m\u001b[0;34m:\u001b[0m\u001b[0;34m\u001b[0m\u001b[0m\n\u001b[1;32m    274\u001b[0m                 data = _sanitize_array(data, index, dtype, copy,\n\u001b[0;32m--> 275\u001b[0;31m                                        raise_cast_failure=True)\n\u001b[0m\u001b[1;32m    276\u001b[0m \u001b[0;34m\u001b[0m\u001b[0m\n\u001b[1;32m    277\u001b[0m                 \u001b[0mdata\u001b[0m \u001b[0;34m=\u001b[0m \u001b[0mSingleBlockManager\u001b[0m\u001b[0;34m(\u001b[0m\u001b[0mdata\u001b[0m\u001b[0;34m,\u001b[0m \u001b[0mindex\u001b[0m\u001b[0;34m,\u001b[0m \u001b[0mfastpath\u001b[0m\u001b[0;34m=\u001b[0m\u001b[0;32mTrue\u001b[0m\u001b[0;34m)\u001b[0m\u001b[0;34m\u001b[0m\u001b[0m\n",
      "\u001b[0;32m~/anaconda3/lib/python3.6/site-packages/pandas/core/series.py\u001b[0m in \u001b[0;36m_sanitize_array\u001b[0;34m(data, index, dtype, copy, raise_cast_failure)\u001b[0m\n\u001b[1;32m   4165\u001b[0m             \u001b[0;32mraise\u001b[0m \u001b[0mException\u001b[0m\u001b[0;34m(\u001b[0m\u001b[0;34m'Data must be 1-dimensional'\u001b[0m\u001b[0;34m)\u001b[0m\u001b[0;34m\u001b[0m\u001b[0m\n\u001b[1;32m   4166\u001b[0m         \u001b[0;32melse\u001b[0m\u001b[0;34m:\u001b[0m\u001b[0;34m\u001b[0m\u001b[0m\n\u001b[0;32m-> 4167\u001b[0;31m             \u001b[0msubarr\u001b[0m \u001b[0;34m=\u001b[0m \u001b[0mcom\u001b[0m\u001b[0;34m.\u001b[0m\u001b[0m_asarray_tuplesafe\u001b[0m\u001b[0;34m(\u001b[0m\u001b[0mdata\u001b[0m\u001b[0;34m,\u001b[0m \u001b[0mdtype\u001b[0m\u001b[0;34m=\u001b[0m\u001b[0mdtype\u001b[0m\u001b[0;34m)\u001b[0m\u001b[0;34m\u001b[0m\u001b[0m\n\u001b[0m\u001b[1;32m   4168\u001b[0m \u001b[0;34m\u001b[0m\u001b[0m\n\u001b[1;32m   4169\u001b[0m     \u001b[0;31m# This is to prevent mixed-type Series getting all casted to\u001b[0m\u001b[0;34m\u001b[0m\u001b[0;34m\u001b[0m\u001b[0m\n",
      "\u001b[0;32m~/anaconda3/lib/python3.6/site-packages/pandas/core/common.py\u001b[0m in \u001b[0;36m_asarray_tuplesafe\u001b[0;34m(values, dtype)\u001b[0m\n\u001b[1;32m    318\u001b[0m         \u001b[0;31m# Avoid building an array of arrays:\u001b[0m\u001b[0;34m\u001b[0m\u001b[0;34m\u001b[0m\u001b[0m\n\u001b[1;32m    319\u001b[0m         \u001b[0;31m# TODO: verify whether any path hits this except #18819 (invalid)\u001b[0m\u001b[0;34m\u001b[0m\u001b[0;34m\u001b[0m\u001b[0m\n\u001b[0;32m--> 320\u001b[0;31m         \u001b[0mvalues\u001b[0m \u001b[0;34m=\u001b[0m \u001b[0;34m[\u001b[0m\u001b[0mtuple\u001b[0m\u001b[0;34m(\u001b[0m\u001b[0mx\u001b[0m\u001b[0;34m)\u001b[0m \u001b[0;32mfor\u001b[0m \u001b[0mx\u001b[0m \u001b[0;32min\u001b[0m \u001b[0mvalues\u001b[0m\u001b[0;34m]\u001b[0m\u001b[0;34m\u001b[0m\u001b[0m\n\u001b[0m\u001b[1;32m    321\u001b[0m         \u001b[0mresult\u001b[0m \u001b[0;34m=\u001b[0m \u001b[0mconstruct_1d_object_array_from_listlike\u001b[0m\u001b[0;34m(\u001b[0m\u001b[0mvalues\u001b[0m\u001b[0;34m)\u001b[0m\u001b[0;34m\u001b[0m\u001b[0m\n\u001b[1;32m    322\u001b[0m \u001b[0;34m\u001b[0m\u001b[0m\n",
      "\u001b[0;32m~/anaconda3/lib/python3.6/site-packages/pandas/core/common.py\u001b[0m in \u001b[0;36m<listcomp>\u001b[0;34m(.0)\u001b[0m\n\u001b[1;32m    318\u001b[0m         \u001b[0;31m# Avoid building an array of arrays:\u001b[0m\u001b[0;34m\u001b[0m\u001b[0;34m\u001b[0m\u001b[0m\n\u001b[1;32m    319\u001b[0m         \u001b[0;31m# TODO: verify whether any path hits this except #18819 (invalid)\u001b[0m\u001b[0;34m\u001b[0m\u001b[0;34m\u001b[0m\u001b[0m\n\u001b[0;32m--> 320\u001b[0;31m         \u001b[0mvalues\u001b[0m \u001b[0;34m=\u001b[0m \u001b[0;34m[\u001b[0m\u001b[0mtuple\u001b[0m\u001b[0;34m(\u001b[0m\u001b[0mx\u001b[0m\u001b[0;34m)\u001b[0m \u001b[0;32mfor\u001b[0m \u001b[0mx\u001b[0m \u001b[0;32min\u001b[0m \u001b[0mvalues\u001b[0m\u001b[0;34m]\u001b[0m\u001b[0;34m\u001b[0m\u001b[0m\n\u001b[0m\u001b[1;32m    321\u001b[0m         \u001b[0mresult\u001b[0m \u001b[0;34m=\u001b[0m \u001b[0mconstruct_1d_object_array_from_listlike\u001b[0m\u001b[0;34m(\u001b[0m\u001b[0mvalues\u001b[0m\u001b[0;34m)\u001b[0m\u001b[0;34m\u001b[0m\u001b[0m\n\u001b[1;32m    322\u001b[0m \u001b[0;34m\u001b[0m\u001b[0m\n",
      "\u001b[0;31mTypeError\u001b[0m: 'int' object is not iterable"
     ]
    }
   ],
   "source": [
    "ind = pd.Series(y_test.index)\n",
    "y_t = pd.Series(y_test.rank)\n",
    "preds = pd.Series(predictions)\n",
    "probs = pd.Series(probs)"
   ]
  },
  {
   "cell_type": "code",
   "execution_count": null,
   "metadata": {},
   "outputs": [],
   "source": []
  },
  {
   "cell_type": "code",
   "execution_count": null,
   "metadata": {},
   "outputs": [],
   "source": [
    "champ_dict = cup_champs[cup_champs['cup_champs']==1].set_index('Year').drop(columns='cup_champs').to_dict()['Team']"
   ]
  },
  {
   "cell_type": "code",
   "execution_count": null,
   "metadata": {},
   "outputs": [],
   "source": [
    "champ_dict"
   ]
  },
  {
   "cell_type": "code",
   "execution_count": null,
   "metadata": {},
   "outputs": [],
   "source": [
    "champs_df = pd.DataFrame.from_dict(champ_dict, orient='index')\n",
    "champs_df.rename(columns={0: 'team'}, inplace=True)"
   ]
  },
  {
   "cell_type": "code",
   "execution_count": null,
   "metadata": {},
   "outputs": [],
   "source": [
    "champs_df.reset_index(inplace=True)"
   ]
  },
  {
   "cell_type": "code",
   "execution_count": null,
   "metadata": {},
   "outputs": [],
   "source": [
    "champs_df.rename(columns={'index': 'year'}, inplace=True)"
   ]
  },
  {
   "cell_type": "code",
   "execution_count": null,
   "metadata": {},
   "outputs": [],
   "source": [
    "champs_df['is_champ'] = 1"
   ]
  },
  {
   "cell_type": "code",
   "execution_count": null,
   "metadata": {},
   "outputs": [],
   "source": [
    "champs_df"
   ]
  },
  {
   "cell_type": "code",
   "execution_count": null,
   "metadata": {},
   "outputs": [],
   "source": [
    "player_champ_df = pd.merge(player_stats, champs_df, how='outer', on=['year', 'team'])"
   ]
  },
  {
   "cell_type": "code",
   "execution_count": null,
   "metadata": {},
   "outputs": [],
   "source": [
    "player_champ_df['is_champ'].fillna(value=0, inplace=True)"
   ]
  },
  {
   "cell_type": "code",
   "execution_count": null,
   "metadata": {},
   "outputs": [],
   "source": [
    "player_champ_df"
   ]
  },
  {
   "cell_type": "code",
   "execution_count": null,
   "metadata": {},
   "outputs": [],
   "source": [
    "correlations = player_champ_df.drop(['is_champ', 'team', 'player', 'position', 'toi_avg'], axis=1).apply(lambda x: x.corr(player_champ_df['is_champ'])).abs().sort_values(ascending=False)"
   ]
  },
  {
   "cell_type": "code",
   "execution_count": null,
   "metadata": {},
   "outputs": [],
   "source": [
    "player_stats"
   ]
  },
  {
   "cell_type": "code",
   "execution_count": null,
   "metadata": {},
   "outputs": [],
   "source": [
    "advanced_stats"
   ]
  },
  {
   "cell_type": "code",
   "execution_count": null,
   "metadata": {},
   "outputs": [],
   "source": [
    "team_stats['rank'] = 0"
   ]
  },
  {
   "cell_type": "code",
   "execution_count": null,
   "metadata": {},
   "outputs": [],
   "source": [
    "team_stats.drop(columns='rank', inplace=True)"
   ]
  },
  {
   "cell_type": "markdown",
   "metadata": {},
   "source": [
    "#### Couple more items to clean up\n",
    "\n",
    "- Renaming the 'team_name' column in the team stats dataframe to just 'team' to match the player and advanced stats dfs.\n",
    "- There is a discrepancy in the dataframes between the St Louis Blues name. The 'advanced_stat' and 'player_stat' dataframes have a period after St(.). I'm removing that so the team names match"
   ]
  },
  {
   "cell_type": "code",
   "execution_count": null,
   "metadata": {},
   "outputs": [],
   "source": [
    "team_stats.rename(columns={'team_name': 'team'}, inplace=True)\n",
    "\n",
    "advanced_stats['team'] = advanced_stats['team'].replace('[^A-Za-z ]', '', regex=True)\n",
    "player_stats['team'] = player_stats['team'].replace('[^A-Za-z ]', '', regex=True)"
   ]
  },
  {
   "cell_type": "markdown",
   "metadata": {},
   "source": [
    "### Function to transform individual stats into team averages to be used in the team stats dataframe"
   ]
  },
  {
   "cell_type": "code",
   "execution_count": null,
   "metadata": {},
   "outputs": [],
   "source": [
    "def agg_stat(dataframe, col_name):\n",
    "    y = dataframe.groupby(by=['year', 'team'])[col_name].mean().unstack()\n",
    "    y.reset_index(inplace=True)\n",
    "    y = pd.melt(y, id_vars=['year'])\n",
    "    return y   "
   ]
  },
  {
   "cell_type": "code",
   "execution_count": null,
   "metadata": {},
   "outputs": [],
   "source": [
    "corsi_pct = agg_stat(advanced_stats, 'corsi_pct')"
   ]
  },
  {
   "cell_type": "code",
   "execution_count": null,
   "metadata": {},
   "outputs": [],
   "source": [
    "team_stats = pd.merge(team_stats, corsi_pct, on=['year', 'team'])"
   ]
  },
  {
   "cell_type": "code",
   "execution_count": null,
   "metadata": {},
   "outputs": [],
   "source": [
    "team_stats.rename(columns={'value': 'avg_corsi_pct'}, inplace=True)"
   ]
  },
  {
   "cell_type": "code",
   "execution_count": null,
   "metadata": {},
   "outputs": [],
   "source": [
    "corsi_for = agg_stat(advanced_stats, 'corsi_for')"
   ]
  },
  {
   "cell_type": "code",
   "execution_count": null,
   "metadata": {},
   "outputs": [],
   "source": [
    "team_stats = pd.merge(team_stats, corsi_for, on=['year', 'team'])"
   ]
  },
  {
   "cell_type": "code",
   "execution_count": null,
   "metadata": {},
   "outputs": [],
   "source": [
    "team_stats.rename(columns={'value': 'avg_corsi_for'}, inplace=True)"
   ]
  },
  {
   "cell_type": "code",
   "execution_count": null,
   "metadata": {},
   "outputs": [],
   "source": [
    "player_point_avg = agg_stat(player_stats, 'points')"
   ]
  },
  {
   "cell_type": "code",
   "execution_count": null,
   "metadata": {},
   "outputs": [],
   "source": [
    "team_stats = pd.merge(team_stats, player_point_avg, on=['year', 'team'])"
   ]
  },
  {
   "cell_type": "code",
   "execution_count": null,
   "metadata": {},
   "outputs": [],
   "source": [
    "team_stats.rename(columns={'value': 'player_point_avg'}, inplace=True)"
   ]
  },
  {
   "cell_type": "code",
   "execution_count": null,
   "metadata": {},
   "outputs": [],
   "source": [
    "avg_plus_minus = agg_stat(player_stats, 'plus_minus')"
   ]
  },
  {
   "cell_type": "code",
   "execution_count": null,
   "metadata": {},
   "outputs": [],
   "source": [
    "team_stats = pd.merge(team_stats, avg_plus_minus, on=['year', 'team'])"
   ]
  },
  {
   "cell_type": "code",
   "execution_count": null,
   "metadata": {},
   "outputs": [],
   "source": [
    "team_stats.rename(columns={'value': 'avg_plus_minus'}, inplace=True)"
   ]
  },
  {
   "cell_type": "code",
   "execution_count": null,
   "metadata": {},
   "outputs": [],
   "source": [
    "avg_ops = agg_stat(player_stats, 'ops')"
   ]
  },
  {
   "cell_type": "code",
   "execution_count": null,
   "metadata": {},
   "outputs": [],
   "source": [
    "team_stats = pd.merge(team_stats, avg_ops, on=['year', 'team'])"
   ]
  },
  {
   "cell_type": "code",
   "execution_count": null,
   "metadata": {},
   "outputs": [],
   "source": [
    "team_stats.rename(columns={'value': 'avg_ops'}, inplace=True)"
   ]
  },
  {
   "cell_type": "code",
   "execution_count": null,
   "metadata": {},
   "outputs": [],
   "source": [
    "avg_dps = agg_stat(player_stats, 'dps')"
   ]
  },
  {
   "cell_type": "code",
   "execution_count": null,
   "metadata": {},
   "outputs": [],
   "source": [
    "team_stats = pd.merge(team_stats, avg_dps, on=['year', 'team'])"
   ]
  },
  {
   "cell_type": "code",
   "execution_count": null,
   "metadata": {},
   "outputs": [],
   "source": [
    "team_stats.rename(columns={'value': 'avg_dps'}, inplace=True)"
   ]
  },
  {
   "cell_type": "code",
   "execution_count": null,
   "metadata": {},
   "outputs": [],
   "source": [
    "pd.merge(team_stats, "
   ]
  },
  {
   "cell_type": "markdown",
   "metadata": {},
   "source": [
    "- Absolute value of correlations to champion"
   ]
  },
  {
   "cell_type": "code",
   "execution_count": null,
   "metadata": {},
   "outputs": [],
   "source": [
    "correlations = team_stats.drop(['is_champ', 'team'], axis=1).apply(lambda x: x.corr(team_stats['is_champ'])).abs().sort_values(ascending=False)"
   ]
  },
  {
   "cell_type": "code",
   "execution_count": null,
   "metadata": {},
   "outputs": [],
   "source": [
    "correlations"
   ]
  },
  {
   "cell_type": "code",
   "execution_count": null,
   "metadata": {},
   "outputs": [],
   "source": [
    "pd.get_dummies(team_stats, columns=['year'])"
   ]
  },
  {
   "cell_type": "markdown",
   "metadata": {},
   "source": [
    "### First Bad Model"
   ]
  },
  {
   "cell_type": "code",
   "execution_count": null,
   "metadata": {},
   "outputs": [],
   "source": [
    "team_stats = pd.get_dummies(team_stats, columns=['rank'])"
   ]
  },
  {
   "cell_type": "code",
   "execution_count": null,
   "metadata": {},
   "outputs": [],
   "source": [
    "team_stats.drop(columns='is_champ', inplace=True)"
   ]
  },
  {
   "cell_type": "code",
   "execution_count": null,
   "metadata": {},
   "outputs": [],
   "source": [
    "team_stats.columns"
   ]
  },
  {
   "cell_type": "code",
   "execution_count": null,
   "metadata": {},
   "outputs": [],
   "source": [
    "X = team_stats.drop(columns=['average_age', 'chances_pp', 'games', 'goals', 'goals_against_ev',\n",
    "                             'goals_ev', 'goals_pp', 'goals_sh', 'losses', 'losses_ot',\n",
    "                             'losses_shootout', 'opp_chances_pp', 'opp_goals', 'opp_goals_pp',\n",
    "                             'opp_goals_sh', 'pdo', 'pen_kill_pct', 'pen_min_per_game',\n",
    "                             'pen_min_per_game_opp', 'points', 'points_pct', 'power_play_pct',\n",
    "                             'save_pct', 'shot_pct', 'shots', 'shots_against', 'sos', 'srs',\n",
    "                             'team_name', 'total_goals_per_game', 'wins', 'wins_shootout', 'year']\n",
    "            \n",
    "y = team_stats['rank_1', 'rank_2', 'rank_3', 'rank_4', 'rank_5', 'rank_6', 'rank_7',\n",
    "               'rank_8', 'rank_9', 'rank_10', 'rank_11', 'rank_12', 'rank_13',\n",
    "               'rank_14', 'rank_15', 'rank_16', 'rank_17', 'rank_18', 'rank_19',\n",
    "               'rank_20', 'rank_21', 'rank_22', 'rank_23', 'rank_24', 'rank_25',\n",
    "               'rank_26', 'rank_27', 'rank_28', 'rank_29', 'rank_30', 'rank_31']"
   ]
  },
  {
   "cell_type": "code",
   "execution_count": null,
   "metadata": {},
   "outputs": [],
   "source": [
    "X_train, y_train, X_test, y_test = train_test_split(X, y, test_size=.3, random_state=28)"
   ]
  },
  {
   "cell_type": "code",
   "execution_count": null,
   "metadata": {},
   "outputs": [],
   "source": [
    "rid\n"
   ]
  },
  {
   "cell_type": "markdown",
   "metadata": {},
   "source": [
    "### Creating balanced scoring feature"
   ]
  },
  {
   "cell_type": "code",
   "execution_count": null,
   "metadata": {},
   "outputs": [],
   "source": [
    "stats_2018 = player_stats[player_stats['year'] == 2018]\n",
    "stats_2017 = player_stats[player_stats['year'] == 2017]\n",
    "stats_2016 = player_stats[player_stats['year'] == 2016]\n",
    "stats_2015 = player_stats[player_stats['year'] == 2015]\n",
    "stats_2014 = player_stats[player_stats['year'] == 2014]\n",
    "stats_2013 = player_stats[player_stats['year'] == 2013]\n",
    "stats_2012 = player_stats[player_stats['year'] == 2012]\n",
    "stats_2011 = player_stats[player_stats['year'] == 2011]\n",
    "stats_2010 = player_stats[player_stats['year'] == 2010]\n",
    "stats_2009 = player_stats[player_stats['year'] == 2009]\n",
    "stats_2008 = player_stats[player_stats['year'] == 2008]"
   ]
  },
  {
   "cell_type": "code",
   "execution_count": null,
   "metadata": {},
   "outputs": [],
   "source": [
    "skater_2018 = stats_2018[stats_2018['position'] != 'G']\n",
    "skater_2017 = stats_2017[stats_2017['position'] != 'G']\n",
    "skater_2016 = stats_2016[stats_2016['position'] != 'G']\n",
    "skater_2015 = stats_2015[stats_2015['position'] != 'G']\n",
    "skater_2014 = stats_2014[stats_2014['position'] != 'G']\n",
    "skater_2013 = stats_2013[stats_2013['position'] != 'G']\n",
    "skater_2012 = stats_2012[stats_2012['position'] != 'G']\n",
    "skater_2011 = stats_2011[stats_2011['position'] != 'G']\n",
    "skater_2010 = stats_2010[stats_2010['position'] != 'G']\n",
    "skater_2009 = stats_2009[stats_2009['position'] != 'G']\n",
    "skater_2008 = stats_2008[stats_2008['position'] != 'G']"
   ]
  },
  {
   "cell_type": "code",
   "execution_count": null,
   "metadata": {},
   "outputs": [],
   "source": [
    "pts_mean_2018 = skater_2018['points'].mean()\n",
    "pts_std_2018 = skater_2018['points'].std()\n",
    "high_pts_2018 = pts_mean_2018 + pts_std_2018"
   ]
  },
  {
   "cell_type": "code",
   "execution_count": null,
   "metadata": {},
   "outputs": [],
   "source": [
    "high_pts_2018"
   ]
  },
  {
   "cell_type": "code",
   "execution_count": null,
   "metadata": {},
   "outputs": [],
   "source": [
    "top_scorers_2018 = skater_2018[skater_2018['points'] > high_pts_2018]"
   ]
  },
  {
   "cell_type": "code",
   "execution_count": null,
   "metadata": {},
   "outputs": [],
   "source": [
    "for player in top_scorers_2018:\n",
    "    print(player)"
   ]
  },
  {
   "cell_type": "code",
   "execution_count": null,
   "metadata": {},
   "outputs": [],
   "source": []
  }
 ],
 "metadata": {
  "kernelspec": {
   "display_name": "Python [conda env:anaconda3]",
   "language": "python",
   "name": "conda-env-anaconda3-py"
  },
  "language_info": {
   "codemirror_mode": {
    "name": "ipython",
    "version": 3
   },
   "file_extension": ".py",
   "mimetype": "text/x-python",
   "name": "python",
   "nbconvert_exporter": "python",
   "pygments_lexer": "ipython3",
   "version": "3.6.5"
  }
 },
 "nbformat": 4,
 "nbformat_minor": 2
}
